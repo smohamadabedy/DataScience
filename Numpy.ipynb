{
  "nbformat": 4,
  "nbformat_minor": 0,
  "metadata": {
    "colab": {
      "provenance": [],
      "authorship_tag": "ABX9TyPuol/tXc46eNosl2mlwS5E",
      "include_colab_link": true
    },
    "kernelspec": {
      "name": "python3",
      "display_name": "Python 3"
    },
    "language_info": {
      "name": "python"
    }
  },
  "cells": [
    {
      "cell_type": "markdown",
      "metadata": {
        "id": "view-in-github",
        "colab_type": "text"
      },
      "source": [
        "<a href=\"https://colab.research.google.com/github/smohamadabedy/DataScience/blob/main/Numpy.ipynb\" target=\"_parent\"><img src=\"https://colab.research.google.com/assets/colab-badge.svg\" alt=\"Open In Colab\"/></a>"
      ]
    },
    {
      "cell_type": "code",
      "source": [
        "import numpy as np\n",
        "import math"
      ],
      "metadata": {
        "id": "1oGvY6M327sR"
      },
      "execution_count": 25,
      "outputs": []
    },
    {
      "cell_type": "markdown",
      "source": [
        "NumPy is the fundamental package for scientific computing in Python. It is a Python library that provides a multidimensional array object, various derived objects (such as masked arrays and matrices), and an assortment of routines for fast operations on arrays, including mathematical, logical, shape manipulation, sorting, selecting, I/O, discrete Fourier transforms, basic linear algebra, basic statistical operations, random simulation and much more."
      ],
      "metadata": {
        "id": "BWny-Do62aUE"
      }
    },
    {
      "cell_type": "markdown",
      "source": [
        "ndarray (alias array)\n",
        "\n",
        "Props:\n",
        "* darray.ndim\n",
        "* ndarray.shape\n",
        "* ndarray.size\n",
        "* ndarray.dtype\n"
      ],
      "metadata": {
        "id": "92rkEOXz2snd"
      }
    },
    {
      "cell_type": "code",
      "execution_count": 32,
      "metadata": {
        "id": "_pKBUxNW1j9N",
        "colab": {
          "base_uri": "https://localhost:8080/"
        },
        "outputId": "33f5059a-3e0a-4239-fa53-8cdbf606ab8f"
      },
      "outputs": [
        {
          "output_type": "stream",
          "name": "stdout",
          "text": [
            "[[1 2 3]\n",
            " [3 4 5]\n",
            " [6 7 8]]\n",
            "9\n",
            "(3, 3)\n",
            "2\n",
            "int64 float64\n",
            "[1 1]\n",
            "[[1]\n",
            " [2]\n",
            " [3]\n",
            " [3]\n",
            " [4]\n",
            " [5]\n",
            " [6]\n",
            " [7]\n",
            " [8]]\n",
            "[[1]\n",
            " [2]\n",
            " [3]\n",
            " [3]\n",
            " [4]\n",
            " [5]\n",
            " [6]\n",
            " [7]\n",
            " [8]]\n",
            "[[1 2 3 3 4 5 6 7 8]]\n",
            "[[1 2 3 3 4 5 6 7 8]]\n"
          ]
        }
      ],
      "source": [
        "#define as np.array( [ [] , [] , .... ] , dtype= )\n",
        "array1 = np.array([[1,2,3],[3,4,5],[6,7,8]]);\n",
        "\n",
        "print(array1)\n",
        "print(array1.size)\n",
        "print(array1.shape)\n",
        "print(array1.ndim)\n",
        "print(array1.dtype,np.array([1.2344,math.sqrt(2)]).dtype)\n",
        "print(np.array([1.2344,math.sqrt(2)], dtype=int))\n",
        "# reshape\n",
        "print(array1.reshape(-1,1))\n",
        "print(array1.reshape(9,1))\n",
        "print(array1.reshape(1,-1))\n",
        "print(array1.reshape(1,9))\n"
      ]
    },
    {
      "cell_type": "code",
      "source": [
        "print(np.sin(1),\n",
        "      np.exp(2),\n",
        "      np.linspace(0,np.pi,5),\n",
        "      np.logspace(0,2,5),\n",
        "      np.arange(0,np.pi,.1),\n",
        "      np.ones(5),\n",
        "      np.zeros(5),\n",
        "      np.empty(5),\n",
        "      np.random.random((3,2))\n",
        "\n",
        "      )"
      ],
      "metadata": {
        "colab": {
          "base_uri": "https://localhost:8080/"
        },
        "id": "4G4ZUDRU7MJa",
        "outputId": "822bbc39-4244-4f48-c9d7-a9f8c535cf08"
      },
      "execution_count": 53,
      "outputs": [
        {
          "output_type": "stream",
          "name": "stdout",
          "text": [
            "0.8414709848078965 7.38905609893065 [0.         0.78539816 1.57079633 2.35619449 3.14159265] [  1.           3.16227766  10.          31.6227766  100.        ] [0.  0.1 0.2 0.3 0.4 0.5 0.6 0.7 0.8 0.9 1.  1.1 1.2 1.3 1.4 1.5 1.6 1.7\n",
            " 1.8 1.9 2.  2.1 2.2 2.3 2.4 2.5 2.6 2.7 2.8 2.9 3.  3.1] [1. 1. 1. 1. 1.] [0. 0. 0. 0. 0.] [0. 0. 0. 0. 0.] [[0.34918367 0.44500466]\n",
            " [0.48330459 0.9334332 ]\n",
            " [0.82692984 0.4136685 ]]\n"
          ]
        }
      ]
    },
    {
      "cell_type": "code",
      "source": [
        "# element wise\n",
        "# caution! if dimentions are mismatched then utilize Broadcasting\n",
        "np.array([1,2])*np.array([[3,4],[5,6]])"
      ],
      "metadata": {
        "colab": {
          "base_uri": "https://localhost:8080/"
        },
        "id": "jriMKjLG3D81",
        "outputId": "b757731d-e4bd-4e9a-dce9-df0a3761cd9b"
      },
      "execution_count": 50,
      "outputs": [
        {
          "output_type": "execute_result",
          "data": {
            "text/plain": [
              "array([[ 3,  8],\n",
              "       [ 5, 12]])"
            ]
          },
          "metadata": {},
          "execution_count": 50
        }
      ]
    },
    {
      "cell_type": "code",
      "source": [],
      "metadata": {
        "id": "PYX67MYQ9Pym"
      },
      "execution_count": null,
      "outputs": []
    }
  ]
}